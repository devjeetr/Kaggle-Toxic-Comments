{
 "cells": [
  {
   "cell_type": "code",
   "execution_count": 6,
   "metadata": {
    "collapsed": true
   },
   "outputs": [],
   "source": [
    "import pandas as pd\n",
    "import numpy as np\n",
    "import matplotlib.pyplot as plt\n",
    "import zipfile\n",
    "import tensorflow as tf"
   ]
  },
  {
   "cell_type": "code",
   "execution_count": 7,
   "metadata": {},
   "outputs": [],
   "source": [
    "\n",
    "# training = pd.read_csv(\"./data/train.csv\")"
   ]
  },
  {
   "cell_type": "code",
   "execution_count": 8,
   "metadata": {},
   "outputs": [
    {
     "name": "stdout",
     "output_type": "stream",
     "text": [
      "A\n"
     ]
    }
   ],
   "source": [
    "#import mnist dataset\n",
    "# from tensorflow.examples.tutorials.mnist import input_data\n",
    "# mnist=input_data.read_data_sets(\"/tmp/.data/\",one_hot=True)\n",
    "print(chr(65))"
   ]
  },
  {
   "cell_type": "code",
   "execution_count": 12,
   "metadata": {},
   "outputs": [
    {
     "name": "stdout",
     "output_type": "stream",
     "text": [
      "done\n"
     ]
    }
   ],
   "source": [
    "class DataLoader:\n",
    "    def __init__(self):\n",
    "        self.i = 0\n",
    "        self.char_to_ind = None\n",
    "        self.ind_to_char = None\n",
    "        \n",
    "        self.data = self.loadData()\n",
    "        \n",
    "    def loadData(self):\n",
    "        with zipfile.ZipFile(\"alllines.txt.zip\") as zip_file:\n",
    "            with zip_file.open(zip_file.namelist()[0]) as text_file:\n",
    "                data = text_file.read()\n",
    "        data = data.decode(\"UTF-8\").replace(\"\\\"\", \"\")\n",
    "\n",
    "        return list(data)\n",
    "    \n",
    "    def getData(self):\n",
    "        return self.data\n",
    "    \n",
    "    \n",
    "    def nextBatch(self, batch_size=128, step_size=10):\n",
    "        \n",
    "        c2i, _ = self.getMappings()\n",
    "        \n",
    "        \n",
    "        x = np.zeros((batch_size, step_size, len(c2i)))\n",
    "        y = np.zeros((batch_size,len(c2i)))\n",
    "        for batch_num in range(batch_size):\n",
    "            x_t, y_t = self.next_time_step(step_size)\n",
    "            for step in range(step_size):\n",
    "                i, j, k = batch_num, step, c2i[x_t[step]]\n",
    "                x[i, j, k] = 1.0\n",
    "            try:\n",
    "                y[i, c2i[y_t[step]]] = 1.0\n",
    "            except Exception as e:\n",
    "                print(\"len: {}, step: {}\".format(len(y_t), step))\n",
    "                raise e\n",
    "        \n",
    "        return x, y\n",
    "        \n",
    "    def next_time_step(self, step_size = 128):\n",
    "        x, y = None, None\n",
    "        if self.i  + step_size + 1 >= len(self.data):\n",
    "            assert len(self.data) > self.i\n",
    "            remaining = step_size - (len(self.data) - self.i)\n",
    "            x = self.data[self.i:] + self.data[:remaining + 1]\n",
    "            y = self.data[self.i + 1: ] + self.data[1:remaining + 2]\n",
    "            self.i = remaining\n",
    "        else:\n",
    "            x = self.data[self.i:self.i + step_size]\n",
    "            y = self.data[self.i + 1:self.i + step_size + 1]\n",
    "            self.i += step_size\n",
    "\n",
    "        return x, y\n",
    "    \n",
    "    def getMappings(self):\n",
    "        if self.char_to_ind and self.ind_to_char:\n",
    "            return self.char_to_ind, self.ind_to_char\n",
    "        \n",
    "        chars = [c for c in set(self.data)]\n",
    "        char_to_ind, ind_to_char = {}, {}\n",
    "        \n",
    "        index = 0\n",
    "        for char in chars:\n",
    "            char_to_ind[char] = index\n",
    "            ind_to_char[index] = char\n",
    "            index += 1\n",
    "        \n",
    "        self.char_to_ind = char_to_ind\n",
    "        self.ind_to_char = ind_to_char\n",
    "        \n",
    "        return char_to_ind, ind_to_char\n",
    "print(\"done\")\n",
    "# zzz = DataLoader()\n",
    "# zzz.nextBatch(batch_size=300, step_size=20)"
   ]
  },
  {
   "cell_type": "code",
   "execution_count": 13,
   "metadata": {
    "collapsed": true,
    "scrolled": false
   },
   "outputs": [],
   "source": [
    "input_data = DataLoader()\n",
    "c2i, i2c = input_data.getMappings()\n",
    "\n",
    "# ltsm setup\n",
    "tf.reset_default_graph()\n",
    "#f.variables\n",
    "time_steps = 100\n",
    "ltsm_cells = 128\n",
    "n_input = len(c2i)\n",
    "learning_rate = 0.001\n",
    "n_classes = len(c2i)\n",
    "batch_size = 1000\n",
    "\n",
    "#weights and biases of appropriate shape to accomplish above task\n",
    "out_weights=tf.Variable(tf.random_normal([ltsm_cells,n_classes]))\n",
    "out_bias=tf.Variable(tf.random_normal([n_classes]))\n",
    "\n",
    "x = tf.placeholder(tf.float32, [None, time_steps, n_input])\n",
    "y = tf.placeholder(tf.float32, [None, n_classes])\n",
    "\n",
    "inp = tf.unstack(x, time_steps, 1)\n",
    "\n",
    "ltsm_layer = tf.contrib.rnn.BasicLSTMCell(ltsm_cells, forget_bias=1)\n",
    "outputs, _ = tf.contrib.rnn.static_rnn(ltsm_layer, inp, dtype=tf.float32)\n",
    "\n",
    "prediction = tf.matmul(outputs[-1], out_weights) + out_bias\n",
    "\n",
    "loss = tf.reduce_mean(tf.nn.softmax_cross_entropy_with_logits(logits=prediction, labels=y))\n",
    "\n",
    "optimizer = tf.train.AdamOptimizer(learning_rate=learning_rate).minimize(loss)\n",
    "\n",
    "correct_prediction = tf.equal(tf.argmax(prediction, 1), tf.argmax(y, 1))\n",
    "accuracy = tf.reduce_mean(tf.cast(correct_prediction, tf.float32))\n"
   ]
  },
  {
   "cell_type": "code",
   "execution_count": null,
   "metadata": {
    "scrolled": false
   },
   "outputs": [
    {
     "name": "stdout",
     "output_type": "stream",
     "text": [
      "step: 0, acc: 2.70%, loss: 4.68\n",
      "step: 10, acc: 14.20%, loss: 3.58\n",
      "step: 20, acc: 16.00%, loss: 3.35\n",
      "step: 30, acc: 16.80%, loss: 3.17\n",
      "step: 40, acc: 15.10%, loss: 3.11\n",
      "step: 50, acc: 20.50%, loss: 2.94\n",
      "step: 60, acc: 22.20%, loss: 2.92\n",
      "step: 70, acc: 22.50%, loss: 2.88\n",
      "step: 80, acc: 24.60%, loss: 2.83\n"
     ]
    }
   ],
   "source": [
    "\n",
    "with tf.Session() as sess:\n",
    "    tf.global_variables_initializer().run(session=sess)\n",
    "    \n",
    "\n",
    "    for i in range(800):\n",
    "        batch_x, batch_y = input_data.nextBatch(batch_size=batch_size, step_size=time_steps)\n",
    "#         batch_x = batch_x.reshape((batch_size, time_steps, n_input))\n",
    "        \n",
    "        sess.run(optimizer, feed_dict={x: batch_x, y: batch_y})\n",
    "        if i %10==0:\n",
    "            acc=sess.run(accuracy,feed_dict={x:batch_x,y:batch_y})\n",
    "            los=sess.run(loss,feed_dict={x:batch_x,y:batch_y})\n",
    "            print(\"step: {}, acc: {:.2f}%, loss: {:.2f}\".format(i, acc * 100, los))\n",
    "            \n",
    "    \n",
    "    #calculating test accuracy\n",
    "#     test_data = mnist.test.images[:128].reshape((-1, time_steps, n_input))\n",
    "#     test_label = mnist.test.labels[:128]\n",
    "#     print(\"Testing Accuracy:\", sess.run(accuracy, feed_dict={x: test_data, y: test_label}))"
   ]
  },
  {
   "cell_type": "code",
   "execution_count": null,
   "metadata": {
    "collapsed": true
   },
   "outputs": [],
   "source": []
  },
  {
   "cell_type": "code",
   "execution_count": null,
   "metadata": {
    "collapsed": true
   },
   "outputs": [],
   "source": []
  }
 ],
 "metadata": {
  "kernelspec": {
   "display_name": "Python 3",
   "language": "python",
   "name": "python3"
  },
  "language_info": {
   "codemirror_mode": {
    "name": "ipython",
    "version": 3
   },
   "file_extension": ".py",
   "mimetype": "text/x-python",
   "name": "python",
   "nbconvert_exporter": "python",
   "pygments_lexer": "ipython3",
   "version": "3.6.2"
  }
 },
 "nbformat": 4,
 "nbformat_minor": 2
}
