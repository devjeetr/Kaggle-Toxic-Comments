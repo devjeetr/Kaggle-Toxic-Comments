{
 "cells": [
  {
   "cell_type": "code",
   "execution_count": 10,
   "metadata": {},
   "outputs": [],
   "source": [
    "# import pandas as pd\n",
    "import numpy as np\n",
    "import matplotlib.pyplot as plt\n",
    "import zipfile\n",
    "import torch\n",
    "import torch.autograd as ag\n",
    "import torch.nn as nn\n",
    "import torch.optim as optim\n",
    "import torch.nn.functional as F"
   ]
  },
  {
   "cell_type": "code",
   "execution_count": 2,
   "metadata": {},
   "outputs": [],
   "source": [
    "\n",
    "# training = pd.read_csv(\"./data/train.csv\")"
   ]
  },
  {
   "cell_type": "code",
   "execution_count": 3,
   "metadata": {},
   "outputs": [
    {
     "name": "stdout",
     "output_type": "stream",
     "text": [
      "A\n"
     ]
    }
   ],
   "source": [
    "#import mnist dataset\n",
    "# from tensorflow.examples.tutorials.mnist import input_data\n",
    "# mnist=input_data.read_data_sets(\"/tmp/.data/\",one_hot=True)\n",
    "print(chr(65))"
   ]
  },
  {
   "cell_type": "code",
   "execution_count": 7,
   "metadata": {},
   "outputs": [
    {
     "name": "stdout",
     "output_type": "stream",
     "text": [
      "Data loaded\n"
     ]
    }
   ],
   "source": [
    "class DataLoader:\n",
    "    def __init__(self):\n",
    "        self.i = 0\n",
    "        self.char_to_ind = None\n",
    "        self.ind_to_char = None\n",
    "        \n",
    "        self.data = self.loadData()\n",
    "        \n",
    "    def loadData(self):\n",
    "        with zipfile.ZipFile(\"alllines.txt.zip\") as zip_file:\n",
    "            with zip_file.open(zip_file.namelist()[0]) as text_file:\n",
    "                data = text_file.read()\n",
    "                \n",
    "        data = data.decode(\"UTF-8\").replace(\"\\\"\", \"\")\n",
    "        return list(data)\n",
    "    \n",
    "    def getData(self):\n",
    "        return self.data\n",
    "    \n",
    "    def nextBatch(self, batch_size=128, step_size=10):\n",
    "        c2i, _ = self.getMappings()\n",
    "        x = np.zeros((batch_size, step_size, len(c2i)))\n",
    "        y = np.zeros((batch_size,len(c2i)))\n",
    "        for batch_num in range(batch_size):\n",
    "            x_t, y_t = self.next_time_step(step_size)\n",
    "            for step in range(step_size):\n",
    "                i, j, k = batch_num, step, c2i[x_t[step]]\n",
    "                x[i, j, k] = 1.0\n",
    "            try:\n",
    "                y[i, c2i[y_t[step]]] = 1.0\n",
    "            except Exception as e:\n",
    "                print(\"len: {}, step: {}\".format(len(y_t), step))\n",
    "                raise e\n",
    "        \n",
    "        return x, y\n",
    "        \n",
    "    def next_time_step(self, step_size = 128):\n",
    "        x, y = None, None\n",
    "        if self.i  + step_size + 1 >= len(self.data):\n",
    "            assert len(self.data) > self.i\n",
    "            remaining = step_size - (len(self.data) - self.i)\n",
    "            x = self.data[self.i:] + self.data[:remaining + 1]\n",
    "            y = self.data[self.i + 1: ] + self.data[1:remaining + 2]\n",
    "            self.i = remaining\n",
    "        else:\n",
    "            x = self.data[self.i:self.i + step_size]\n",
    "            y = self.data[self.i + 1:self.i + step_size + 1]\n",
    "            self.i += step_size\n",
    "\n",
    "        return x, y\n",
    "    \n",
    "    def getMappings(self):\n",
    "        if self.char_to_ind and self.ind_to_char:\n",
    "            return self.char_to_ind, self.ind_to_char\n",
    "        \n",
    "        chars = [c for c in set(self.data)]\n",
    "        char_to_ind, ind_to_char = {}, {}\n",
    "        \n",
    "        index = 0\n",
    "        for char in chars:\n",
    "            char_to_ind[char] = index\n",
    "            ind_to_char[index] = char\n",
    "            index += 1\n",
    "        \n",
    "        self.char_to_ind = char_to_ind\n",
    "        self.ind_to_char = ind_to_char\n",
    "        \n",
    "        return char_to_ind, ind_to_char\n",
    "\n",
    "input_data = DataLoader()\n",
    "c2i, i2c = input_data.getMappings()\n",
    "\n",
    "print(\"Data loaded\")"
   ]
  },
  {
   "cell_type": "code",
   "execution_count": null,
   "metadata": {
    "scrolled": false
   },
   "outputs": [],
   "source": [
    "# class RNN:\n",
    "#     def __init__(self):\n",
    "        \n",
    "    \n",
    "#     def forward(self):\n",
    "        \n",
    "    \n",
    "#     # backward pass, computing\n",
    "#     # gradients and updating model\n",
    "#     # parameters\n",
    "#     def backward(self):\n",
    "        \n",
    "input_size = 1\n",
    "batch_size = 50\n",
    "sequence_size = 10\n",
    "output_size = input_size\n",
    "\n",
    "inputs = [ag.Variable(torch.randn(1, 3))\n",
    "          for _ in range(sequence_length)]\n",
    "\n",
    "lstm = nn.LSTM(input_size, output_size)\n",
    "hidden = (ag.Variable(torch.randn(1, 3)), \n",
    "          ag.Variable(torch.randn(1, 1, 3)))\n",
    "\n",
    "for i in inputs:\n",
    "    out, hidden = lstm(i,view(1, 1, -1), hidden)\n",
    "\n"
   ]
  }
 ],
 "metadata": {
  "kernelspec": {
   "display_name": "Python 3",
   "language": "python",
   "name": "python3"
  },
  "language_info": {
   "codemirror_mode": {
    "name": "ipython",
    "version": 3
   },
   "file_extension": ".py",
   "mimetype": "text/x-python",
   "name": "python",
   "nbconvert_exporter": "python",
   "pygments_lexer": "ipython3",
   "version": "3.6.3"
  }
 },
 "nbformat": 4,
 "nbformat_minor": 2
}
